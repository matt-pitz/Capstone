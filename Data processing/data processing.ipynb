{
 "cells": [
  {
   "cell_type": "code",
   "execution_count": 1,
   "metadata": {},
   "outputs": [
    {
     "name": "stdin",
     "output_type": "stream",
     "text": [
      "access id ········\n",
      "access key ········\n"
     ]
    }
   ],
   "source": [
    "from getpass import getpass\n",
    "\n",
    "profile_name = 'default'\n",
    "region_name = 'us-east-1'\n",
    "aws_access_key_id = getpass('access id')\n",
    "aws_secret_access_key = getpass('access key')"
   ]
  },
  {
   "cell_type": "code",
   "execution_count": 2,
   "metadata": {},
   "outputs": [],
   "source": [
    "# Import libraries\n",
    "\n",
    "import pandas as pd\n",
    "import matplotlib.pyplot as plt\n",
    "import numpy as np\n",
    "import matplotlib.dates\n",
    "import logging\n",
    "import boto3\n",
    "import pandas as pd\n",
    "import pyarrow.parquet as pq\n",
    "import io\n",
    "import os\n",
    "from botocore.exceptions import ClientError"
   ]
  },
  {
   "cell_type": "code",
   "execution_count": 3,
   "metadata": {},
   "outputs": [
    {
     "name": "stdout",
     "output_type": "stream",
     "text": [
      "get_s3_client: profile_name=default, region_name=us-east-1\n"
     ]
    }
   ],
   "source": [
    "#connect to s3\n",
    "print('get_s3_client: profile_name=%s, region_name=%s' % (profile_name, region_name))\n",
    "\n",
    "session = boto3.Session(profile_name=profile_name)\n",
    "s3 = session.client('s3',\n",
    "    region_name=region_name)"
   ]
  },
  {
   "cell_type": "code",
   "execution_count": 4,
   "metadata": {},
   "outputs": [],
   "source": [
    "s3 = boto3.resource(\n",
    "    service_name='s3',\n",
    "    region_name= region_name,\n",
    "    aws_access_key_id= aws_access_key_id,\n",
    "    aws_secret_access_key = aws_secret_access_key\n",
    ")\n",
    "buffer = io.BytesIO()"
   ]
  },
  {
   "cell_type": "code",
   "execution_count": 5,
   "metadata": {},
   "outputs": [
    {
     "name": "stdout",
     "output_type": "stream",
     "text": [
      "training-prediction-s3\n"
     ]
    }
   ],
   "source": [
    "#view buckets\n",
    "for bucket in s3.buckets.all():\n",
    "    print(bucket.name)"
   ]
  },
  {
   "cell_type": "code",
   "execution_count": 6,
   "metadata": {},
   "outputs": [],
   "source": [
    "source = s3.Bucket('training-prediction-s3').Object('raw/run_ww_2020_d.parquet')\n",
    "source.download_fileobj(buffer)\n",
    "df_2020 = pd.read_parquet(buffer)"
   ]
  },
  {
   "cell_type": "code",
   "execution_count": 7,
   "metadata": {
    "tags": []
   },
   "outputs": [
    {
     "data": {
      "text/html": [
       "<div>\n",
       "<style scoped>\n",
       "    .dataframe tbody tr th:only-of-type {\n",
       "        vertical-align: middle;\n",
       "    }\n",
       "\n",
       "    .dataframe tbody tr th {\n",
       "        vertical-align: top;\n",
       "    }\n",
       "\n",
       "    .dataframe thead th {\n",
       "        text-align: right;\n",
       "    }\n",
       "</style>\n",
       "<table border=\"1\" class=\"dataframe\">\n",
       "  <thead>\n",
       "    <tr style=\"text-align: right;\">\n",
       "      <th></th>\n",
       "      <th>datetime</th>\n",
       "      <th>athlete</th>\n",
       "      <th>distance</th>\n",
       "      <th>duration</th>\n",
       "      <th>gender</th>\n",
       "      <th>age_group</th>\n",
       "      <th>country</th>\n",
       "      <th>major</th>\n",
       "    </tr>\n",
       "  </thead>\n",
       "  <tbody>\n",
       "    <tr>\n",
       "      <th>0</th>\n",
       "      <td>2020-01-01</td>\n",
       "      <td>0</td>\n",
       "      <td>0.00</td>\n",
       "      <td>0.000000</td>\n",
       "      <td>F</td>\n",
       "      <td>18 - 34</td>\n",
       "      <td>United States</td>\n",
       "      <td>CHICAGO 2019</td>\n",
       "    </tr>\n",
       "    <tr>\n",
       "      <th>1</th>\n",
       "      <td>2020-01-01</td>\n",
       "      <td>1</td>\n",
       "      <td>5.72</td>\n",
       "      <td>31.633333</td>\n",
       "      <td>M</td>\n",
       "      <td>35 - 54</td>\n",
       "      <td>Germany</td>\n",
       "      <td>BERLIN 2016</td>\n",
       "    </tr>\n",
       "    <tr>\n",
       "      <th>2</th>\n",
       "      <td>2020-01-01</td>\n",
       "      <td>2</td>\n",
       "      <td>0.00</td>\n",
       "      <td>0.000000</td>\n",
       "      <td>M</td>\n",
       "      <td>35 - 54</td>\n",
       "      <td>United Kingdom</td>\n",
       "      <td>LONDON 2018,LONDON 2019</td>\n",
       "    </tr>\n",
       "    <tr>\n",
       "      <th>3</th>\n",
       "      <td>2020-01-01</td>\n",
       "      <td>3</td>\n",
       "      <td>0.00</td>\n",
       "      <td>0.000000</td>\n",
       "      <td>M</td>\n",
       "      <td>18 - 34</td>\n",
       "      <td>United Kingdom</td>\n",
       "      <td>LONDON 2017</td>\n",
       "    </tr>\n",
       "    <tr>\n",
       "      <th>4</th>\n",
       "      <td>2020-01-01</td>\n",
       "      <td>4</td>\n",
       "      <td>8.07</td>\n",
       "      <td>38.616667</td>\n",
       "      <td>M</td>\n",
       "      <td>35 - 54</td>\n",
       "      <td>United States</td>\n",
       "      <td>BOSTON 2017</td>\n",
       "    </tr>\n",
       "  </tbody>\n",
       "</table>\n",
       "</div>"
      ],
      "text/plain": [
       "    datetime  athlete  distance   duration gender age_group         country  \\\n",
       "0 2020-01-01        0      0.00   0.000000      F   18 - 34   United States   \n",
       "1 2020-01-01        1      5.72  31.633333      M   35 - 54         Germany   \n",
       "2 2020-01-01        2      0.00   0.000000      M   35 - 54  United Kingdom   \n",
       "3 2020-01-01        3      0.00   0.000000      M   18 - 34  United Kingdom   \n",
       "4 2020-01-01        4      8.07  38.616667      M   35 - 54   United States   \n",
       "\n",
       "                     major  \n",
       "0             CHICAGO 2019  \n",
       "1              BERLIN 2016  \n",
       "2  LONDON 2018,LONDON 2019  \n",
       "3              LONDON 2017  \n",
       "4              BOSTON 2017  "
      ]
     },
     "execution_count": 7,
     "metadata": {},
     "output_type": "execute_result"
    }
   ],
   "source": [
    "df_2020.head()"
   ]
  },
  {
   "cell_type": "code",
   "execution_count": 8,
   "metadata": {},
   "outputs": [
    {
     "data": {
      "text/plain": [
       "datetime     datetime64[ns]\n",
       "athlete               int64\n",
       "distance            float64\n",
       "duration            float64\n",
       "gender               object\n",
       "age_group            object\n",
       "country              object\n",
       "major                object\n",
       "datetime2            string\n",
       "month                 int64\n",
       "day                   int64\n",
       "dtype: object"
      ]
     },
     "execution_count": 8,
     "metadata": {},
     "output_type": "execute_result"
    }
   ],
   "source": [
    "df_2020['datetime2'] = df_2020['datetime'].astype('string')\n",
    "df_2020['month'] = df_2020['datetime2'].str.slice(5, 7)\n",
    "df_2020['day'] = df_2020['datetime2'].str.slice(8, )\n",
    "df_2020['month'] = df_2020['month'].astype(int)\n",
    "df_2020['day'] = df_2020['day'].astype(int)\n",
    "df_2020.dtypes"
   ]
  },
  {
   "cell_type": "code",
   "execution_count": 9,
   "metadata": {},
   "outputs": [],
   "source": [
    "import calendar\n",
    "import numpy as np\n",
    "calendar.setfirstweekday(6)\n",
    "\n",
    "def get_week_of_month(year, month, day):\n",
    "    x = np.array(calendar.monthcalendar(year, month))\n",
    "    week_of_month = np.where(x==day)[0][0] + 1\n",
    "    return(week_of_month)"
   ]
  },
  {
   "cell_type": "code",
   "execution_count": 10,
   "metadata": {},
   "outputs": [],
   "source": [
    "df_2020['week_no_in_month'] = df_2020.apply(lambda x: get_week_of_month(2020, x['month'], x['day']), axis=1)"
   ]
  },
  {
   "cell_type": "code",
   "execution_count": 11,
   "metadata": {},
   "outputs": [],
   "source": [
    "df_2020['day_run'] = df_2020.apply(lambda row: 1 if row['distance'] > 0 else 0, axis=1)"
   ]
  },
  {
   "cell_type": "code",
   "execution_count": 12,
   "metadata": {
    "tags": []
   },
   "outputs": [
    {
     "data": {
      "text/html": [
       "<div>\n",
       "<style scoped>\n",
       "    .dataframe tbody tr th:only-of-type {\n",
       "        vertical-align: middle;\n",
       "    }\n",
       "\n",
       "    .dataframe tbody tr th {\n",
       "        vertical-align: top;\n",
       "    }\n",
       "\n",
       "    .dataframe thead th {\n",
       "        text-align: right;\n",
       "    }\n",
       "</style>\n",
       "<table border=\"1\" class=\"dataframe\">\n",
       "  <thead>\n",
       "    <tr style=\"text-align: right;\">\n",
       "      <th></th>\n",
       "      <th></th>\n",
       "      <th></th>\n",
       "      <th>distance</th>\n",
       "      <th>duration</th>\n",
       "      <th>day_run</th>\n",
       "    </tr>\n",
       "    <tr>\n",
       "      <th>athlete</th>\n",
       "      <th>month</th>\n",
       "      <th>week_no_in_month</th>\n",
       "      <th></th>\n",
       "      <th></th>\n",
       "      <th></th>\n",
       "    </tr>\n",
       "  </thead>\n",
       "  <tbody>\n",
       "    <tr>\n",
       "      <th rowspan=\"5\" valign=\"top\">0</th>\n",
       "      <th rowspan=\"5\" valign=\"top\">1</th>\n",
       "      <th>1</th>\n",
       "      <td>0.0</td>\n",
       "      <td>0.0</td>\n",
       "      <td>0</td>\n",
       "    </tr>\n",
       "    <tr>\n",
       "      <th>2</th>\n",
       "      <td>0.0</td>\n",
       "      <td>0.0</td>\n",
       "      <td>0</td>\n",
       "    </tr>\n",
       "    <tr>\n",
       "      <th>3</th>\n",
       "      <td>0.0</td>\n",
       "      <td>0.0</td>\n",
       "      <td>0</td>\n",
       "    </tr>\n",
       "    <tr>\n",
       "      <th>4</th>\n",
       "      <td>0.0</td>\n",
       "      <td>0.0</td>\n",
       "      <td>0</td>\n",
       "    </tr>\n",
       "    <tr>\n",
       "      <th>5</th>\n",
       "      <td>0.0</td>\n",
       "      <td>0.0</td>\n",
       "      <td>0</td>\n",
       "    </tr>\n",
       "  </tbody>\n",
       "</table>\n",
       "</div>"
      ],
      "text/plain": [
       "                                distance  duration  day_run\n",
       "athlete month week_no_in_month                             \n",
       "0       1     1                      0.0       0.0        0\n",
       "              2                      0.0       0.0        0\n",
       "              3                      0.0       0.0        0\n",
       "              4                      0.0       0.0        0\n",
       "              5                      0.0       0.0        0"
      ]
     },
     "execution_count": 12,
     "metadata": {},
     "output_type": "execute_result"
    }
   ],
   "source": [
    "df_2020_agg_week = pd.DataFrame(df_2020.groupby(['athlete', 'month', 'week_no_in_month']).agg({\"distance\": sum, \"duration\": sum, \"day_run\": sum}))\n",
    "df_2020_agg_week.head()"
   ]
  },
  {
   "cell_type": "code",
   "execution_count": 13,
   "metadata": {},
   "outputs": [],
   "source": [
    "df_2020_agg_week = df_2020_agg_week.reset_index()\n",
    "df_2020_agg_week['pace'] = (df_2020_agg_week['duration'])/(df_2020_agg_week['distance'])"
   ]
  },
  {
   "cell_type": "code",
   "execution_count": 14,
   "metadata": {
    "tags": []
   },
   "outputs": [],
   "source": [
    "df_2020_agg_week['pace'] = df_2020_agg_week.pace.fillna(0)"
   ]
  },
  {
   "cell_type": "code",
   "execution_count": 15,
   "metadata": {
    "tags": []
   },
   "outputs": [],
   "source": [
    "df_2020_agg_week2 = pd.DataFrame(df_2020_agg_week.groupby(['athlete', 'month']).agg({\"distance\": 'mean', \"pace\": 'mean', \"day_run\": 'mean'}))\n",
    "df_2020_agg_week2 = df_2020_agg_week2.reset_index()"
   ]
  },
  {
   "cell_type": "code",
   "execution_count": 16,
   "metadata": {},
   "outputs": [],
   "source": [
    "df_athlete_ids = df_2020.groupby('athlete').agg({\"age_group\": \"first\",\"gender\": \"first\", \"country\": \"first\"})\n",
    "df_athlete_ids = df_athlete_ids.reset_index()"
   ]
  },
  {
   "cell_type": "code",
   "execution_count": 17,
   "metadata": {},
   "outputs": [
    {
     "data": {
      "text/html": [
       "<div>\n",
       "<style scoped>\n",
       "    .dataframe tbody tr th:only-of-type {\n",
       "        vertical-align: middle;\n",
       "    }\n",
       "\n",
       "    .dataframe tbody tr th {\n",
       "        vertical-align: top;\n",
       "    }\n",
       "\n",
       "    .dataframe thead th {\n",
       "        text-align: right;\n",
       "    }\n",
       "</style>\n",
       "<table border=\"1\" class=\"dataframe\">\n",
       "  <thead>\n",
       "    <tr style=\"text-align: right;\">\n",
       "      <th></th>\n",
       "      <th>athlete</th>\n",
       "      <th>month</th>\n",
       "      <th>distance</th>\n",
       "      <th>pace</th>\n",
       "      <th>day_run</th>\n",
       "      <th>age_group</th>\n",
       "      <th>gender</th>\n",
       "      <th>country</th>\n",
       "    </tr>\n",
       "  </thead>\n",
       "  <tbody>\n",
       "    <tr>\n",
       "      <th>0</th>\n",
       "      <td>0</td>\n",
       "      <td>1</td>\n",
       "      <td>0.000000</td>\n",
       "      <td>0.000000</td>\n",
       "      <td>0.000000</td>\n",
       "      <td>18 - 34</td>\n",
       "      <td>F</td>\n",
       "      <td>United States</td>\n",
       "    </tr>\n",
       "    <tr>\n",
       "      <th>1</th>\n",
       "      <td>0</td>\n",
       "      <td>2</td>\n",
       "      <td>1.300000</td>\n",
       "      <td>1.049744</td>\n",
       "      <td>0.200000</td>\n",
       "      <td>18 - 34</td>\n",
       "      <td>F</td>\n",
       "      <td>United States</td>\n",
       "    </tr>\n",
       "    <tr>\n",
       "      <th>2</th>\n",
       "      <td>0</td>\n",
       "      <td>3</td>\n",
       "      <td>5.508000</td>\n",
       "      <td>4.255836</td>\n",
       "      <td>1.000000</td>\n",
       "      <td>18 - 34</td>\n",
       "      <td>F</td>\n",
       "      <td>United States</td>\n",
       "    </tr>\n",
       "    <tr>\n",
       "      <th>3</th>\n",
       "      <td>0</td>\n",
       "      <td>4</td>\n",
       "      <td>7.590000</td>\n",
       "      <td>4.435107</td>\n",
       "      <td>1.400000</td>\n",
       "      <td>18 - 34</td>\n",
       "      <td>F</td>\n",
       "      <td>United States</td>\n",
       "    </tr>\n",
       "    <tr>\n",
       "      <th>4</th>\n",
       "      <td>0</td>\n",
       "      <td>5</td>\n",
       "      <td>3.636667</td>\n",
       "      <td>2.815836</td>\n",
       "      <td>0.666667</td>\n",
       "      <td>18 - 34</td>\n",
       "      <td>F</td>\n",
       "      <td>United States</td>\n",
       "    </tr>\n",
       "  </tbody>\n",
       "</table>\n",
       "</div>"
      ],
      "text/plain": [
       "   athlete  month  distance      pace   day_run age_group gender  \\\n",
       "0        0      1  0.000000  0.000000  0.000000   18 - 34      F   \n",
       "1        0      2  1.300000  1.049744  0.200000   18 - 34      F   \n",
       "2        0      3  5.508000  4.255836  1.000000   18 - 34      F   \n",
       "3        0      4  7.590000  4.435107  1.400000   18 - 34      F   \n",
       "4        0      5  3.636667  2.815836  0.666667   18 - 34      F   \n",
       "\n",
       "         country  \n",
       "0  United States  \n",
       "1  United States  \n",
       "2  United States  \n",
       "3  United States  \n",
       "4  United States  "
      ]
     },
     "execution_count": 17,
     "metadata": {},
     "output_type": "execute_result"
    }
   ],
   "source": [
    "df_2020_athletes_months = df_2020_agg_week2.merge(df_athlete_ids, on='athlete', how='outer')\n",
    "df_2020_athletes_months.head()"
   ]
  },
  {
   "cell_type": "markdown",
   "metadata": {},
   "source": [
    "## this is first half now for second half"
   ]
  },
  {
   "cell_type": "code",
   "execution_count": 18,
   "metadata": {},
   "outputs": [],
   "source": [
    "df_2020['distance_rounded'] = df_2020.distance.round()"
   ]
  },
  {
   "cell_type": "code",
   "execution_count": 19,
   "metadata": {},
   "outputs": [],
   "source": [
    "df_2020['athlete_month'] = df_2020[\"athlete\"].astype(str) + \"_\" + df_2020[\"month\"].astype(str)"
   ]
  },
  {
   "cell_type": "code",
   "execution_count": 20,
   "metadata": {},
   "outputs": [],
   "source": [
    "value_counts_in_month = df_2020.groupby(['athlete_month', 'distance_rounded']).size().reset_index(name='count')\n",
    "df_2020_athletes_months['athlete_month2'] = df_2020_athletes_months[\"athlete\"].astype(str) + \"_\" + df_2020_athletes_months[\"month\"].astype(str)\n",
    "value_counts_in_month[['athlete', 'month']] = value_counts_in_month.athlete_month.str.split(\"_\", expand = True)"
   ]
  },
  {
   "cell_type": "code",
   "execution_count": 21,
   "metadata": {},
   "outputs": [
    {
     "data": {
      "text/plain": [
       "athlete_month        object\n",
       "distance_rounded    float64\n",
       "count                 int64\n",
       "athlete               int64\n",
       "month                 int64\n",
       "dtype: object"
      ]
     },
     "execution_count": 21,
     "metadata": {},
     "output_type": "execute_result"
    }
   ],
   "source": [
    "value_counts_in_month['athlete'] = value_counts_in_month['athlete'].astype(int)\n",
    "value_counts_in_month['month'] = value_counts_in_month['month'].astype(int)\n",
    "value_counts_in_month.dtypes"
   ]
  },
  {
   "cell_type": "code",
   "execution_count": 22,
   "metadata": {},
   "outputs": [
    {
     "data": {
      "text/plain": [
       "30"
      ]
     },
     "execution_count": 22,
     "metadata": {},
     "output_type": "execute_result"
    }
   ],
   "source": [
    "def days_in_month(year, month):\n",
    "    _, num_days = calendar.monthrange(year, month)\n",
    "    return num_days\n",
    "\n",
    "\n",
    "days_in_month(2023,6)"
   ]
  },
  {
   "cell_type": "code",
   "execution_count": 23,
   "metadata": {},
   "outputs": [],
   "source": [
    "value_counts_in_month['days_in_month'] = value_counts_in_month.apply(lambda x: days_in_month(2020, x['month']), axis=1)\n",
    "value_counts_in_month['weekly_frequency'] = value_counts_in_month['count'] / (value_counts_in_month['days_in_month'] / 7)"
   ]
  },
  {
   "cell_type": "code",
   "execution_count": 24,
   "metadata": {},
   "outputs": [],
   "source": [
    "def month_name_from_number(month_number):\n",
    "    if 1 <= month_number <= 12:\n",
    "        return calendar.month_name[month_number]\n",
    "    else:\n",
    "        return None  # You can handle invalid month numbers as per your requirements\n",
    "\n"
   ]
  },
  {
   "cell_type": "code",
   "execution_count": 25,
   "metadata": {},
   "outputs": [],
   "source": [
    "# Create a new 'month_name' column in the DataFrame\n",
    "value_counts_in_month['current_month'] = value_counts_in_month['month'].apply(month_name_from_number)\n",
    "\n",
    "value_counts_in_month.loc[value_counts_in_month['month'] > 1, 'previous_month'] = value_counts_in_month['month'] - 1\n",
    "value_counts_in_month['previous_month'] = value_counts_in_month['previous_month'].astype('string')\n",
    "value_counts_in_month['athlete_month2'] = value_counts_in_month['athlete'].astype('string') + '_'+ value_counts_in_month['previous_month'].str[:-2]\n",
    "value_counts_in_month2 = value_counts_in_month[['athlete_month', 'athlete_month2', 'athlete','current_month', 'distance_rounded', 'weekly_frequency']]\n",
    "\n",
    "df_2020_athletes_prev_months = df_2020_athletes_months[['athlete_month2', 'distance', 'pace', 'day_run']]"
   ]
  },
  {
   "cell_type": "code",
   "execution_count": 26,
   "metadata": {},
   "outputs": [
    {
     "name": "stderr",
     "output_type": "stream",
     "text": [
      "/tmp/ipykernel_6945/3560025548.py:2: SettingWithCopyWarning: \n",
      "A value is trying to be set on a copy of a slice from a DataFrame.\n",
      "Try using .loc[row_indexer,col_indexer] = value instead\n",
      "\n",
      "See the caveats in the documentation: https://pandas.pydata.org/pandas-docs/stable/user_guide/indexing.html#returning-a-view-versus-a-copy\n",
      "  value_counts_in_month2['athlete_month2'] = value_counts_in_month2['athlete_month2'].astype('object')\n",
      "/tmp/ipykernel_6945/3560025548.py:4: SettingWithCopyWarning: \n",
      "A value is trying to be set on a copy of a slice from a DataFrame.\n",
      "Try using .loc[row_indexer,col_indexer] = value instead\n",
      "\n",
      "See the caveats in the documentation: https://pandas.pydata.org/pandas-docs/stable/user_guide/indexing.html#returning-a-view-versus-a-copy\n",
      "  df_2020_athletes_identities['athlete'] = df_2020_athletes_identities['athlete'].astype('int')\n"
     ]
    },
    {
     "data": {
      "text/plain": [
       "athlete       int64\n",
       "age_group    object\n",
       "gender       object\n",
       "country      object\n",
       "dtype: object"
      ]
     },
     "execution_count": 26,
     "metadata": {},
     "output_type": "execute_result"
    }
   ],
   "source": [
    "df_2020_athletes_identities = df_2020_athletes_months[['athlete', 'age_group','gender','country']]\n",
    "value_counts_in_month2['athlete_month2'] = value_counts_in_month2['athlete_month2'].astype('object')\n",
    "\n",
    "df_2020_athletes_identities['athlete'] = df_2020_athletes_identities['athlete'].astype('int')\n",
    "df_2020_athletes_identities.dtypes"
   ]
  },
  {
   "cell_type": "code",
   "execution_count": 27,
   "metadata": {},
   "outputs": [],
   "source": [
    "merged_a = value_counts_in_month2.merge(df_2020_athletes_prev_months, on='athlete_month2', how='left')\n",
    "merged_b = merged_a.merge(df_2020_athletes_identities.drop_duplicates(subset=['athlete']),on='athlete', how='left')"
   ]
  },
  {
   "cell_type": "code",
   "execution_count": 28,
   "metadata": {},
   "outputs": [
    {
     "data": {
      "text/html": [
       "<div>\n",
       "<style scoped>\n",
       "    .dataframe tbody tr th:only-of-type {\n",
       "        vertical-align: middle;\n",
       "    }\n",
       "\n",
       "    .dataframe tbody tr th {\n",
       "        vertical-align: top;\n",
       "    }\n",
       "\n",
       "    .dataframe thead th {\n",
       "        text-align: right;\n",
       "    }\n",
       "</style>\n",
       "<table border=\"1\" class=\"dataframe\">\n",
       "  <thead>\n",
       "    <tr style=\"text-align: right;\">\n",
       "      <th></th>\n",
       "      <th>athlete_month</th>\n",
       "      <th>athlete_month2</th>\n",
       "      <th>athlete</th>\n",
       "      <th>current_month</th>\n",
       "      <th>run_distance_rounded</th>\n",
       "      <th>weekly_frequency</th>\n",
       "      <th>prev_month_weekly_km</th>\n",
       "      <th>prev_month_weekly_pace</th>\n",
       "      <th>prev_month_weekly_days_run</th>\n",
       "      <th>age_bucket</th>\n",
       "      <th>gender</th>\n",
       "      <th>country</th>\n",
       "    </tr>\n",
       "  </thead>\n",
       "  <tbody>\n",
       "    <tr>\n",
       "      <th>0</th>\n",
       "      <td>0_1</td>\n",
       "      <td>&lt;NA&gt;</td>\n",
       "      <td>0</td>\n",
       "      <td>January</td>\n",
       "      <td>0.0</td>\n",
       "      <td>7.000000</td>\n",
       "      <td>NaN</td>\n",
       "      <td>NaN</td>\n",
       "      <td>NaN</td>\n",
       "      <td>18 - 34</td>\n",
       "      <td>F</td>\n",
       "      <td>United States</td>\n",
       "    </tr>\n",
       "    <tr>\n",
       "      <th>1</th>\n",
       "      <td>0_10</td>\n",
       "      <td>0_9</td>\n",
       "      <td>0</td>\n",
       "      <td>October</td>\n",
       "      <td>0.0</td>\n",
       "      <td>6.096774</td>\n",
       "      <td>6.198</td>\n",
       "      <td>3.630120</td>\n",
       "      <td>1.2</td>\n",
       "      <td>18 - 34</td>\n",
       "      <td>F</td>\n",
       "      <td>United States</td>\n",
       "    </tr>\n",
       "    <tr>\n",
       "      <th>2</th>\n",
       "      <td>0_10</td>\n",
       "      <td>0_9</td>\n",
       "      <td>0</td>\n",
       "      <td>October</td>\n",
       "      <td>4.0</td>\n",
       "      <td>0.225806</td>\n",
       "      <td>6.198</td>\n",
       "      <td>3.630120</td>\n",
       "      <td>1.2</td>\n",
       "      <td>18 - 34</td>\n",
       "      <td>F</td>\n",
       "      <td>United States</td>\n",
       "    </tr>\n",
       "    <tr>\n",
       "      <th>3</th>\n",
       "      <td>0_10</td>\n",
       "      <td>0_9</td>\n",
       "      <td>0</td>\n",
       "      <td>October</td>\n",
       "      <td>6.0</td>\n",
       "      <td>0.677419</td>\n",
       "      <td>6.198</td>\n",
       "      <td>3.630120</td>\n",
       "      <td>1.2</td>\n",
       "      <td>18 - 34</td>\n",
       "      <td>F</td>\n",
       "      <td>United States</td>\n",
       "    </tr>\n",
       "    <tr>\n",
       "      <th>4</th>\n",
       "      <td>0_11</td>\n",
       "      <td>0_10</td>\n",
       "      <td>0</td>\n",
       "      <td>November</td>\n",
       "      <td>0.0</td>\n",
       "      <td>5.600000</td>\n",
       "      <td>4.444</td>\n",
       "      <td>2.336156</td>\n",
       "      <td>0.8</td>\n",
       "      <td>18 - 34</td>\n",
       "      <td>F</td>\n",
       "      <td>United States</td>\n",
       "    </tr>\n",
       "  </tbody>\n",
       "</table>\n",
       "</div>"
      ],
      "text/plain": [
       "  athlete_month athlete_month2  athlete current_month  run_distance_rounded  \\\n",
       "0           0_1           <NA>        0       January                   0.0   \n",
       "1          0_10            0_9        0       October                   0.0   \n",
       "2          0_10            0_9        0       October                   4.0   \n",
       "3          0_10            0_9        0       October                   6.0   \n",
       "4          0_11           0_10        0      November                   0.0   \n",
       "\n",
       "   weekly_frequency  prev_month_weekly_km  prev_month_weekly_pace  \\\n",
       "0          7.000000                   NaN                     NaN   \n",
       "1          6.096774                 6.198                3.630120   \n",
       "2          0.225806                 6.198                3.630120   \n",
       "3          0.677419                 6.198                3.630120   \n",
       "4          5.600000                 4.444                2.336156   \n",
       "\n",
       "   prev_month_weekly_days_run age_bucket gender        country  \n",
       "0                         NaN    18 - 34      F  United States  \n",
       "1                         1.2    18 - 34      F  United States  \n",
       "2                         1.2    18 - 34      F  United States  \n",
       "3                         1.2    18 - 34      F  United States  \n",
       "4                         0.8    18 - 34      F  United States  "
      ]
     },
     "execution_count": 28,
     "metadata": {},
     "output_type": "execute_result"
    }
   ],
   "source": [
    "new_column_names = {\n",
    "    'distance': 'prev_month_weekly_km',\n",
    "    'pace': 'prev_month_weekly_pace',\n",
    "    'day_run': 'prev_month_weekly_days_run',\n",
    "    'age_group': 'age_bucket',\n",
    "    'distance_rounded': 'run_distance_rounded',\n",
    "}\n",
    "\n",
    "merged_b = merged_b.rename(columns=new_column_names)\n",
    "merged_b.head()"
   ]
  },
  {
   "cell_type": "code",
   "execution_count": 57,
   "metadata": {},
   "outputs": [],
   "source": [
    "input_data_2020 = merged_b[['athlete', 'prev_month_weekly_km', 'prev_month_weekly_pace', 'prev_month_weekly_days_run','age_bucket', 'gender', 'country', 'current_month', 'run_distance_rounded', 'weekly_frequency']]\n",
    "input_data_2020_nozeros = input_data_2020[input_data_2020['run_distance_rounded'] > 0]"
   ]
  },
  {
   "cell_type": "code",
   "execution_count": 58,
   "metadata": {},
   "outputs": [
    {
     "data": {
      "text/html": [
       "<div>\n",
       "<style scoped>\n",
       "    .dataframe tbody tr th:only-of-type {\n",
       "        vertical-align: middle;\n",
       "    }\n",
       "\n",
       "    .dataframe tbody tr th {\n",
       "        vertical-align: top;\n",
       "    }\n",
       "\n",
       "    .dataframe thead th {\n",
       "        text-align: right;\n",
       "    }\n",
       "</style>\n",
       "<table border=\"1\" class=\"dataframe\">\n",
       "  <thead>\n",
       "    <tr style=\"text-align: right;\">\n",
       "      <th></th>\n",
       "      <th>athlete</th>\n",
       "      <th>prev_month_weekly_km</th>\n",
       "      <th>prev_month_weekly_pace</th>\n",
       "      <th>prev_month_weekly_days_run</th>\n",
       "      <th>age_bucket</th>\n",
       "      <th>gender</th>\n",
       "      <th>country</th>\n",
       "      <th>current_month</th>\n",
       "      <th>run_distance_rounded</th>\n",
       "      <th>weekly_frequency</th>\n",
       "    </tr>\n",
       "  </thead>\n",
       "  <tbody>\n",
       "    <tr>\n",
       "      <th>2571189</th>\n",
       "      <td>4007</td>\n",
       "      <td>0.000000</td>\n",
       "      <td>0.000000</td>\n",
       "      <td>0.0</td>\n",
       "      <td>18 - 34</td>\n",
       "      <td>M</td>\n",
       "      <td>United Kingdom</td>\n",
       "      <td>August</td>\n",
       "      <td>11.0</td>\n",
       "      <td>0.225806</td>\n",
       "    </tr>\n",
       "    <tr>\n",
       "      <th>2881141</th>\n",
       "      <td>7236</td>\n",
       "      <td>25.350000</td>\n",
       "      <td>5.738924</td>\n",
       "      <td>1.4</td>\n",
       "      <td>18 - 34</td>\n",
       "      <td>M</td>\n",
       "      <td>United Kingdom</td>\n",
       "      <td>March</td>\n",
       "      <td>21.0</td>\n",
       "      <td>0.225806</td>\n",
       "    </tr>\n",
       "    <tr>\n",
       "      <th>2322672</th>\n",
       "      <td>35198</td>\n",
       "      <td>33.728333</td>\n",
       "      <td>5.471490</td>\n",
       "      <td>2.0</td>\n",
       "      <td>18 - 34</td>\n",
       "      <td>M</td>\n",
       "      <td>Germany</td>\n",
       "      <td>July</td>\n",
       "      <td>49.0</td>\n",
       "      <td>0.225806</td>\n",
       "    </tr>\n",
       "    <tr>\n",
       "      <th>470369</th>\n",
       "      <td>14955</td>\n",
       "      <td>26.080000</td>\n",
       "      <td>7.082155</td>\n",
       "      <td>3.4</td>\n",
       "      <td>35 - 54</td>\n",
       "      <td>F</td>\n",
       "      <td>United States</td>\n",
       "      <td>December</td>\n",
       "      <td>2.0</td>\n",
       "      <td>0.225806</td>\n",
       "    </tr>\n",
       "    <tr>\n",
       "      <th>1088596</th>\n",
       "      <td>21595</td>\n",
       "      <td>38.746000</td>\n",
       "      <td>5.065998</td>\n",
       "      <td>3.6</td>\n",
       "      <td>35 - 54</td>\n",
       "      <td>M</td>\n",
       "      <td>Switzerland</td>\n",
       "      <td>May</td>\n",
       "      <td>7.0</td>\n",
       "      <td>0.225806</td>\n",
       "    </tr>\n",
       "    <tr>\n",
       "      <th>1012783</th>\n",
       "      <td>20767</td>\n",
       "      <td>14.660000</td>\n",
       "      <td>3.355847</td>\n",
       "      <td>0.8</td>\n",
       "      <td>35 - 54</td>\n",
       "      <td>F</td>\n",
       "      <td>United States</td>\n",
       "      <td>October</td>\n",
       "      <td>43.0</td>\n",
       "      <td>0.225806</td>\n",
       "    </tr>\n",
       "    <tr>\n",
       "      <th>2045608</th>\n",
       "      <td>32280</td>\n",
       "      <td>NaN</td>\n",
       "      <td>NaN</td>\n",
       "      <td>NaN</td>\n",
       "      <td>18 - 34</td>\n",
       "      <td>M</td>\n",
       "      <td>United Kingdom</td>\n",
       "      <td>January</td>\n",
       "      <td>20.0</td>\n",
       "      <td>0.225806</td>\n",
       "    </tr>\n",
       "    <tr>\n",
       "      <th>1690267</th>\n",
       "      <td>28055</td>\n",
       "      <td>34.308000</td>\n",
       "      <td>5.788270</td>\n",
       "      <td>3.2</td>\n",
       "      <td>35 - 54</td>\n",
       "      <td>M</td>\n",
       "      <td>United Kingdom</td>\n",
       "      <td>May</td>\n",
       "      <td>13.0</td>\n",
       "      <td>0.225806</td>\n",
       "    </tr>\n",
       "    <tr>\n",
       "      <th>131884</th>\n",
       "      <td>11361</td>\n",
       "      <td>16.396667</td>\n",
       "      <td>7.243326</td>\n",
       "      <td>2.5</td>\n",
       "      <td>35 - 54</td>\n",
       "      <td>F</td>\n",
       "      <td>Indonesia</td>\n",
       "      <td>July</td>\n",
       "      <td>10.0</td>\n",
       "      <td>0.225806</td>\n",
       "    </tr>\n",
       "    <tr>\n",
       "      <th>1144961</th>\n",
       "      <td>22206</td>\n",
       "      <td>41.337600</td>\n",
       "      <td>5.421444</td>\n",
       "      <td>3.8</td>\n",
       "      <td>35 - 54</td>\n",
       "      <td>M</td>\n",
       "      <td>Canada</td>\n",
       "      <td>May</td>\n",
       "      <td>5.0</td>\n",
       "      <td>1.129032</td>\n",
       "    </tr>\n",
       "  </tbody>\n",
       "</table>\n",
       "</div>"
      ],
      "text/plain": [
       "         athlete  prev_month_weekly_km  prev_month_weekly_pace  \\\n",
       "2571189     4007              0.000000                0.000000   \n",
       "2881141     7236             25.350000                5.738924   \n",
       "2322672    35198             33.728333                5.471490   \n",
       "470369     14955             26.080000                7.082155   \n",
       "1088596    21595             38.746000                5.065998   \n",
       "1012783    20767             14.660000                3.355847   \n",
       "2045608    32280                   NaN                     NaN   \n",
       "1690267    28055             34.308000                5.788270   \n",
       "131884     11361             16.396667                7.243326   \n",
       "1144961    22206             41.337600                5.421444   \n",
       "\n",
       "         prev_month_weekly_days_run age_bucket gender         country  \\\n",
       "2571189                         0.0    18 - 34      M  United Kingdom   \n",
       "2881141                         1.4    18 - 34      M  United Kingdom   \n",
       "2322672                         2.0    18 - 34      M         Germany   \n",
       "470369                          3.4    35 - 54      F   United States   \n",
       "1088596                         3.6    35 - 54      M     Switzerland   \n",
       "1012783                         0.8    35 - 54      F   United States   \n",
       "2045608                         NaN    18 - 34      M  United Kingdom   \n",
       "1690267                         3.2    35 - 54      M  United Kingdom   \n",
       "131884                          2.5    35 - 54      F       Indonesia   \n",
       "1144961                         3.8    35 - 54      M          Canada   \n",
       "\n",
       "        current_month  run_distance_rounded  weekly_frequency  \n",
       "2571189        August                  11.0          0.225806  \n",
       "2881141         March                  21.0          0.225806  \n",
       "2322672          July                  49.0          0.225806  \n",
       "470369       December                   2.0          0.225806  \n",
       "1088596           May                   7.0          0.225806  \n",
       "1012783       October                  43.0          0.225806  \n",
       "2045608       January                  20.0          0.225806  \n",
       "1690267           May                  13.0          0.225806  \n",
       "131884           July                  10.0          0.225806  \n",
       "1144961           May                   5.0          1.129032  "
      ]
     },
     "execution_count": 58,
     "metadata": {},
     "output_type": "execute_result"
    }
   ],
   "source": [
    "input_data_2020_nozeros.sample(10)"
   ]
  },
  {
   "cell_type": "code",
   "execution_count": 59,
   "metadata": {
    "tags": []
   },
   "outputs": [
    {
     "name": "stdout",
     "output_type": "stream",
     "text": [
      "dir already exists\n"
     ]
    }
   ],
   "source": [
    "try:\n",
    "    os.mkdir('../../raw')\n",
    "except:\n",
    "    print('dir already exists')\n",
    "input_data_2020_nozeros.to_csv('../../raw/input_runners_2020.csv', index=False)"
   ]
  },
  {
   "cell_type": "markdown",
   "metadata": {},
   "source": [
    "## 2019 Data"
   ]
  },
  {
   "cell_type": "code",
   "execution_count": 33,
   "metadata": {},
   "outputs": [],
   "source": [
    "source = s3.Bucket('training-prediction-s3').Object('raw/run_ww_2019_d.parquet')\n",
    "source.download_fileobj(buffer)\n",
    "df_2019 = pd.read_parquet(buffer)"
   ]
  },
  {
   "cell_type": "code",
   "execution_count": 34,
   "metadata": {},
   "outputs": [
    {
     "data": {
      "text/plain": [
       "datetime     datetime64[ns]\n",
       "athlete               int64\n",
       "distance            float64\n",
       "duration            float64\n",
       "gender               object\n",
       "age_group            object\n",
       "country              object\n",
       "major                object\n",
       "datetime2            string\n",
       "month                 int64\n",
       "day                   int64\n",
       "dtype: object"
      ]
     },
     "execution_count": 34,
     "metadata": {},
     "output_type": "execute_result"
    }
   ],
   "source": [
    "df_2019['datetime2'] = df_2019['datetime'].astype('string')\n",
    "df_2019['month'] = df_2019['datetime2'].str.slice(5, 7)\n",
    "df_2019['day'] = df_2019['datetime2'].str.slice(8, )\n",
    "df_2019['month'] = df_2019['month'].astype(int)\n",
    "df_2019['day'] = df_2019['day'].astype(int)\n",
    "df_2019.dtypes"
   ]
  },
  {
   "cell_type": "code",
   "execution_count": 35,
   "metadata": {},
   "outputs": [],
   "source": [
    "df_2019['week_no_in_month'] = df_2019.apply(lambda x: get_week_of_month(2019, x['month'], x['day']), axis=1)"
   ]
  },
  {
   "cell_type": "code",
   "execution_count": 36,
   "metadata": {},
   "outputs": [],
   "source": [
    "df_2019['day_run'] = df_2019.apply(lambda row: 1 if row['distance'] > 0 else 0, axis=1)"
   ]
  },
  {
   "cell_type": "code",
   "execution_count": 37,
   "metadata": {
    "tags": []
   },
   "outputs": [
    {
     "data": {
      "text/html": [
       "<div>\n",
       "<style scoped>\n",
       "    .dataframe tbody tr th:only-of-type {\n",
       "        vertical-align: middle;\n",
       "    }\n",
       "\n",
       "    .dataframe tbody tr th {\n",
       "        vertical-align: top;\n",
       "    }\n",
       "\n",
       "    .dataframe thead th {\n",
       "        text-align: right;\n",
       "    }\n",
       "</style>\n",
       "<table border=\"1\" class=\"dataframe\">\n",
       "  <thead>\n",
       "    <tr style=\"text-align: right;\">\n",
       "      <th></th>\n",
       "      <th></th>\n",
       "      <th></th>\n",
       "      <th>distance</th>\n",
       "      <th>duration</th>\n",
       "      <th>day_run</th>\n",
       "    </tr>\n",
       "    <tr>\n",
       "      <th>athlete</th>\n",
       "      <th>month</th>\n",
       "      <th>week_no_in_month</th>\n",
       "      <th></th>\n",
       "      <th></th>\n",
       "      <th></th>\n",
       "    </tr>\n",
       "  </thead>\n",
       "  <tbody>\n",
       "    <tr>\n",
       "      <th rowspan=\"5\" valign=\"top\">0</th>\n",
       "      <th rowspan=\"5\" valign=\"top\">1</th>\n",
       "      <th>1</th>\n",
       "      <td>0.0</td>\n",
       "      <td>0.0</td>\n",
       "      <td>0</td>\n",
       "    </tr>\n",
       "    <tr>\n",
       "      <th>2</th>\n",
       "      <td>0.0</td>\n",
       "      <td>0.0</td>\n",
       "      <td>0</td>\n",
       "    </tr>\n",
       "    <tr>\n",
       "      <th>3</th>\n",
       "      <td>0.0</td>\n",
       "      <td>0.0</td>\n",
       "      <td>0</td>\n",
       "    </tr>\n",
       "    <tr>\n",
       "      <th>4</th>\n",
       "      <td>0.0</td>\n",
       "      <td>0.0</td>\n",
       "      <td>0</td>\n",
       "    </tr>\n",
       "    <tr>\n",
       "      <th>5</th>\n",
       "      <td>0.0</td>\n",
       "      <td>0.0</td>\n",
       "      <td>0</td>\n",
       "    </tr>\n",
       "  </tbody>\n",
       "</table>\n",
       "</div>"
      ],
      "text/plain": [
       "                                distance  duration  day_run\n",
       "athlete month week_no_in_month                             \n",
       "0       1     1                      0.0       0.0        0\n",
       "              2                      0.0       0.0        0\n",
       "              3                      0.0       0.0        0\n",
       "              4                      0.0       0.0        0\n",
       "              5                      0.0       0.0        0"
      ]
     },
     "execution_count": 37,
     "metadata": {},
     "output_type": "execute_result"
    }
   ],
   "source": [
    "df_2019_agg_week = pd.DataFrame(df_2019.groupby(['athlete', 'month', 'week_no_in_month']).agg({\"distance\": sum, \"duration\": sum, \"day_run\": sum}))\n",
    "df_2019_agg_week.head()"
   ]
  },
  {
   "cell_type": "code",
   "execution_count": 38,
   "metadata": {},
   "outputs": [],
   "source": [
    "df_2019_agg_week = df_2019_agg_week.reset_index()\n",
    "df_2019_agg_week['pace'] = (df_2019_agg_week['duration'])/(df_2019_agg_week['distance'])"
   ]
  },
  {
   "cell_type": "code",
   "execution_count": 39,
   "metadata": {
    "tags": []
   },
   "outputs": [],
   "source": [
    "df_2019_agg_week['pace'] = df_2019_agg_week.pace.fillna(0)"
   ]
  },
  {
   "cell_type": "code",
   "execution_count": 40,
   "metadata": {
    "tags": []
   },
   "outputs": [],
   "source": [
    "df_2019_agg_week2 = pd.DataFrame(df_2019_agg_week.groupby(['athlete', 'month']).agg({\"distance\": 'mean', \"pace\": 'mean', \"day_run\": 'mean'}))\n",
    "df_2019_agg_week2 = df_2019_agg_week2.reset_index()"
   ]
  },
  {
   "cell_type": "code",
   "execution_count": 41,
   "metadata": {},
   "outputs": [],
   "source": [
    "df_athlete_ids = df_2019.groupby('athlete').agg({\"age_group\": \"first\",\"gender\": \"first\", \"country\": \"first\"})\n",
    "df_athlete_ids = df_athlete_ids.reset_index()"
   ]
  },
  {
   "cell_type": "code",
   "execution_count": 42,
   "metadata": {},
   "outputs": [
    {
     "data": {
      "text/html": [
       "<div>\n",
       "<style scoped>\n",
       "    .dataframe tbody tr th:only-of-type {\n",
       "        vertical-align: middle;\n",
       "    }\n",
       "\n",
       "    .dataframe tbody tr th {\n",
       "        vertical-align: top;\n",
       "    }\n",
       "\n",
       "    .dataframe thead th {\n",
       "        text-align: right;\n",
       "    }\n",
       "</style>\n",
       "<table border=\"1\" class=\"dataframe\">\n",
       "  <thead>\n",
       "    <tr style=\"text-align: right;\">\n",
       "      <th></th>\n",
       "      <th>athlete</th>\n",
       "      <th>month</th>\n",
       "      <th>distance</th>\n",
       "      <th>pace</th>\n",
       "      <th>day_run</th>\n",
       "      <th>age_group</th>\n",
       "      <th>gender</th>\n",
       "      <th>country</th>\n",
       "    </tr>\n",
       "  </thead>\n",
       "  <tbody>\n",
       "    <tr>\n",
       "      <th>0</th>\n",
       "      <td>0</td>\n",
       "      <td>1</td>\n",
       "      <td>0.0</td>\n",
       "      <td>0.0</td>\n",
       "      <td>0.0</td>\n",
       "      <td>18 - 34</td>\n",
       "      <td>F</td>\n",
       "      <td>United States</td>\n",
       "    </tr>\n",
       "    <tr>\n",
       "      <th>1</th>\n",
       "      <td>0</td>\n",
       "      <td>2</td>\n",
       "      <td>0.0</td>\n",
       "      <td>0.0</td>\n",
       "      <td>0.0</td>\n",
       "      <td>18 - 34</td>\n",
       "      <td>F</td>\n",
       "      <td>United States</td>\n",
       "    </tr>\n",
       "    <tr>\n",
       "      <th>2</th>\n",
       "      <td>0</td>\n",
       "      <td>3</td>\n",
       "      <td>0.0</td>\n",
       "      <td>0.0</td>\n",
       "      <td>0.0</td>\n",
       "      <td>18 - 34</td>\n",
       "      <td>F</td>\n",
       "      <td>United States</td>\n",
       "    </tr>\n",
       "    <tr>\n",
       "      <th>3</th>\n",
       "      <td>0</td>\n",
       "      <td>4</td>\n",
       "      <td>0.0</td>\n",
       "      <td>0.0</td>\n",
       "      <td>0.0</td>\n",
       "      <td>18 - 34</td>\n",
       "      <td>F</td>\n",
       "      <td>United States</td>\n",
       "    </tr>\n",
       "    <tr>\n",
       "      <th>4</th>\n",
       "      <td>0</td>\n",
       "      <td>5</td>\n",
       "      <td>0.0</td>\n",
       "      <td>0.0</td>\n",
       "      <td>0.0</td>\n",
       "      <td>18 - 34</td>\n",
       "      <td>F</td>\n",
       "      <td>United States</td>\n",
       "    </tr>\n",
       "  </tbody>\n",
       "</table>\n",
       "</div>"
      ],
      "text/plain": [
       "   athlete  month  distance  pace  day_run age_group gender        country\n",
       "0        0      1       0.0   0.0      0.0   18 - 34      F  United States\n",
       "1        0      2       0.0   0.0      0.0   18 - 34      F  United States\n",
       "2        0      3       0.0   0.0      0.0   18 - 34      F  United States\n",
       "3        0      4       0.0   0.0      0.0   18 - 34      F  United States\n",
       "4        0      5       0.0   0.0      0.0   18 - 34      F  United States"
      ]
     },
     "execution_count": 42,
     "metadata": {},
     "output_type": "execute_result"
    }
   ],
   "source": [
    "df_2019_athletes_months = df_2019_agg_week2.merge(df_athlete_ids, on='athlete', how='outer')\n",
    "df_2019_athletes_months.head()"
   ]
  },
  {
   "cell_type": "markdown",
   "metadata": {},
   "source": [
    "## this is first half now for second half"
   ]
  },
  {
   "cell_type": "code",
   "execution_count": 43,
   "metadata": {},
   "outputs": [],
   "source": [
    "df_2019['distance_rounded'] = df_2019.distance.round()"
   ]
  },
  {
   "cell_type": "code",
   "execution_count": 44,
   "metadata": {},
   "outputs": [],
   "source": [
    "df_2019['athlete_month'] = df_2019[\"athlete\"].astype(str) + \"_\" + df_2019[\"month\"].astype(str)"
   ]
  },
  {
   "cell_type": "code",
   "execution_count": 45,
   "metadata": {},
   "outputs": [],
   "source": [
    "value_counts_in_month = df_2019.groupby(['athlete_month', 'distance_rounded']).size().reset_index(name='count')\n",
    "df_2019_athletes_months['athlete_month2'] = df_2019_athletes_months[\"athlete\"].astype(str) + \"_\" + df_2019_athletes_months[\"month\"].astype(str)\n",
    "value_counts_in_month[['athlete', 'month']] = value_counts_in_month.athlete_month.str.split(\"_\", expand = True)"
   ]
  },
  {
   "cell_type": "code",
   "execution_count": 46,
   "metadata": {},
   "outputs": [
    {
     "data": {
      "text/plain": [
       "athlete_month        object\n",
       "distance_rounded    float64\n",
       "count                 int64\n",
       "athlete               int64\n",
       "month                 int64\n",
       "dtype: object"
      ]
     },
     "execution_count": 46,
     "metadata": {},
     "output_type": "execute_result"
    }
   ],
   "source": [
    "value_counts_in_month['athlete'] = value_counts_in_month['athlete'].astype(int)\n",
    "value_counts_in_month['month'] = value_counts_in_month['month'].astype(int)\n",
    "value_counts_in_month.dtypes"
   ]
  },
  {
   "cell_type": "code",
   "execution_count": 47,
   "metadata": {},
   "outputs": [],
   "source": [
    "value_counts_in_month['days_in_month'] = value_counts_in_month.apply(lambda x: days_in_month(2019, x['month']), axis=1)\n",
    "value_counts_in_month['weekly_frequency'] = value_counts_in_month['count'] / (value_counts_in_month['days_in_month'] / 7)"
   ]
  },
  {
   "cell_type": "code",
   "execution_count": 48,
   "metadata": {},
   "outputs": [],
   "source": [
    "def month_name_from_number(month_number):\n",
    "    if 1 <= month_number <= 12:\n",
    "        return calendar.month_name[month_number]\n",
    "    else:\n",
    "        return None  # You can handle invalid month numbers as per your requirements\n",
    "\n"
   ]
  },
  {
   "cell_type": "code",
   "execution_count": 49,
   "metadata": {},
   "outputs": [],
   "source": [
    "# Create a new 'month_name' column in the DataFrame\n",
    "value_counts_in_month['current_month'] = value_counts_in_month['month'].apply(month_name_from_number)\n",
    "\n",
    "value_counts_in_month.loc[value_counts_in_month['month'] > 1, 'previous_month'] = value_counts_in_month['month'] - 1\n",
    "value_counts_in_month['previous_month'] = value_counts_in_month['previous_month'].astype('string')\n",
    "value_counts_in_month['athlete_month2'] = value_counts_in_month['athlete'].astype('string') + '_'+ value_counts_in_month['previous_month'].str[:-2]\n",
    "value_counts_in_month2 = value_counts_in_month[['athlete_month', 'athlete_month2', 'athlete','current_month', 'distance_rounded', 'weekly_frequency']]\n",
    "\n",
    "df_2019_athletes_prev_months = df_2019_athletes_months[['athlete_month2', 'distance', 'pace', 'day_run']]"
   ]
  },
  {
   "cell_type": "code",
   "execution_count": 50,
   "metadata": {
    "tags": []
   },
   "outputs": [
    {
     "name": "stderr",
     "output_type": "stream",
     "text": [
      "/tmp/ipykernel_6945/962339242.py:2: SettingWithCopyWarning: \n",
      "A value is trying to be set on a copy of a slice from a DataFrame.\n",
      "Try using .loc[row_indexer,col_indexer] = value instead\n",
      "\n",
      "See the caveats in the documentation: https://pandas.pydata.org/pandas-docs/stable/user_guide/indexing.html#returning-a-view-versus-a-copy\n",
      "  value_counts_in_month2['athlete_month2'] = value_counts_in_month2['athlete_month2'].astype('object')\n",
      "/tmp/ipykernel_6945/962339242.py:4: SettingWithCopyWarning: \n",
      "A value is trying to be set on a copy of a slice from a DataFrame.\n",
      "Try using .loc[row_indexer,col_indexer] = value instead\n",
      "\n",
      "See the caveats in the documentation: https://pandas.pydata.org/pandas-docs/stable/user_guide/indexing.html#returning-a-view-versus-a-copy\n",
      "  df_2019_athletes_identities['athlete'] = df_2019_athletes_identities['athlete'].astype('int')\n"
     ]
    },
    {
     "data": {
      "text/plain": [
       "athlete       int64\n",
       "age_group    object\n",
       "gender       object\n",
       "country      object\n",
       "dtype: object"
      ]
     },
     "execution_count": 50,
     "metadata": {},
     "output_type": "execute_result"
    }
   ],
   "source": [
    "df_2019_athletes_identities = df_2019_athletes_months[['athlete', 'age_group','gender','country']]\n",
    "value_counts_in_month2['athlete_month2'] = value_counts_in_month2['athlete_month2'].astype('object')\n",
    "\n",
    "df_2019_athletes_identities['athlete'] = df_2019_athletes_identities['athlete'].astype('int')\n",
    "df_2019_athletes_identities.dtypes"
   ]
  },
  {
   "cell_type": "code",
   "execution_count": 51,
   "metadata": {},
   "outputs": [],
   "source": [
    "merged_a = value_counts_in_month2.merge(df_2019_athletes_prev_months, on='athlete_month2', how='left')\n",
    "merged_b = merged_a.merge(df_2019_athletes_identities.drop_duplicates(subset=['athlete']),on='athlete', how='left')"
   ]
  },
  {
   "cell_type": "code",
   "execution_count": 52,
   "metadata": {},
   "outputs": [
    {
     "data": {
      "text/html": [
       "<div>\n",
       "<style scoped>\n",
       "    .dataframe tbody tr th:only-of-type {\n",
       "        vertical-align: middle;\n",
       "    }\n",
       "\n",
       "    .dataframe tbody tr th {\n",
       "        vertical-align: top;\n",
       "    }\n",
       "\n",
       "    .dataframe thead th {\n",
       "        text-align: right;\n",
       "    }\n",
       "</style>\n",
       "<table border=\"1\" class=\"dataframe\">\n",
       "  <thead>\n",
       "    <tr style=\"text-align: right;\">\n",
       "      <th></th>\n",
       "      <th>athlete_month</th>\n",
       "      <th>athlete_month2</th>\n",
       "      <th>athlete</th>\n",
       "      <th>current_month</th>\n",
       "      <th>run_distance_rounded</th>\n",
       "      <th>weekly_frequency</th>\n",
       "      <th>prev_month_weekly_km</th>\n",
       "      <th>prev_month_weekly_pace</th>\n",
       "      <th>prev_month_weekly_days_run</th>\n",
       "      <th>age_bucket</th>\n",
       "      <th>gender</th>\n",
       "      <th>country</th>\n",
       "    </tr>\n",
       "  </thead>\n",
       "  <tbody>\n",
       "    <tr>\n",
       "      <th>0</th>\n",
       "      <td>0_1</td>\n",
       "      <td>&lt;NA&gt;</td>\n",
       "      <td>0</td>\n",
       "      <td>January</td>\n",
       "      <td>0.0</td>\n",
       "      <td>7.000000</td>\n",
       "      <td>NaN</td>\n",
       "      <td>NaN</td>\n",
       "      <td>NaN</td>\n",
       "      <td>18 - 34</td>\n",
       "      <td>F</td>\n",
       "      <td>United States</td>\n",
       "    </tr>\n",
       "    <tr>\n",
       "      <th>1</th>\n",
       "      <td>0_10</td>\n",
       "      <td>0_9</td>\n",
       "      <td>0</td>\n",
       "      <td>October</td>\n",
       "      <td>0.0</td>\n",
       "      <td>5.645161</td>\n",
       "      <td>47.48</td>\n",
       "      <td>6.185043</td>\n",
       "      <td>3.4</td>\n",
       "      <td>18 - 34</td>\n",
       "      <td>F</td>\n",
       "      <td>United States</td>\n",
       "    </tr>\n",
       "    <tr>\n",
       "      <th>2</th>\n",
       "      <td>0_10</td>\n",
       "      <td>0_9</td>\n",
       "      <td>0</td>\n",
       "      <td>October</td>\n",
       "      <td>4.0</td>\n",
       "      <td>0.225806</td>\n",
       "      <td>47.48</td>\n",
       "      <td>6.185043</td>\n",
       "      <td>3.4</td>\n",
       "      <td>18 - 34</td>\n",
       "      <td>F</td>\n",
       "      <td>United States</td>\n",
       "    </tr>\n",
       "    <tr>\n",
       "      <th>3</th>\n",
       "      <td>0_10</td>\n",
       "      <td>0_9</td>\n",
       "      <td>0</td>\n",
       "      <td>October</td>\n",
       "      <td>6.0</td>\n",
       "      <td>0.225806</td>\n",
       "      <td>47.48</td>\n",
       "      <td>6.185043</td>\n",
       "      <td>3.4</td>\n",
       "      <td>18 - 34</td>\n",
       "      <td>F</td>\n",
       "      <td>United States</td>\n",
       "    </tr>\n",
       "    <tr>\n",
       "      <th>4</th>\n",
       "      <td>0_10</td>\n",
       "      <td>0_9</td>\n",
       "      <td>0</td>\n",
       "      <td>October</td>\n",
       "      <td>8.0</td>\n",
       "      <td>0.225806</td>\n",
       "      <td>47.48</td>\n",
       "      <td>6.185043</td>\n",
       "      <td>3.4</td>\n",
       "      <td>18 - 34</td>\n",
       "      <td>F</td>\n",
       "      <td>United States</td>\n",
       "    </tr>\n",
       "  </tbody>\n",
       "</table>\n",
       "</div>"
      ],
      "text/plain": [
       "  athlete_month athlete_month2  athlete current_month  run_distance_rounded  \\\n",
       "0           0_1           <NA>        0       January                   0.0   \n",
       "1          0_10            0_9        0       October                   0.0   \n",
       "2          0_10            0_9        0       October                   4.0   \n",
       "3          0_10            0_9        0       October                   6.0   \n",
       "4          0_10            0_9        0       October                   8.0   \n",
       "\n",
       "   weekly_frequency  prev_month_weekly_km  prev_month_weekly_pace  \\\n",
       "0          7.000000                   NaN                     NaN   \n",
       "1          5.645161                 47.48                6.185043   \n",
       "2          0.225806                 47.48                6.185043   \n",
       "3          0.225806                 47.48                6.185043   \n",
       "4          0.225806                 47.48                6.185043   \n",
       "\n",
       "   prev_month_weekly_days_run age_bucket gender        country  \n",
       "0                         NaN    18 - 34      F  United States  \n",
       "1                         3.4    18 - 34      F  United States  \n",
       "2                         3.4    18 - 34      F  United States  \n",
       "3                         3.4    18 - 34      F  United States  \n",
       "4                         3.4    18 - 34      F  United States  "
      ]
     },
     "execution_count": 52,
     "metadata": {},
     "output_type": "execute_result"
    }
   ],
   "source": [
    "new_column_names = {\n",
    "    'distance': 'prev_month_weekly_km',\n",
    "    'pace': 'prev_month_weekly_pace',\n",
    "    'day_run': 'prev_month_weekly_days_run',\n",
    "    'age_group': 'age_bucket',\n",
    "    'distance_rounded': 'run_distance_rounded',\n",
    "}\n",
    "\n",
    "merged_b = merged_b.rename(columns=new_column_names)\n",
    "merged_b.head()"
   ]
  },
  {
   "cell_type": "code",
   "execution_count": 60,
   "metadata": {},
   "outputs": [],
   "source": [
    "input_data_2019 = merged_b[['athlete', 'prev_month_weekly_km', 'prev_month_weekly_pace', 'prev_month_weekly_days_run','age_bucket', 'gender', 'country', 'current_month', 'run_distance_rounded', 'weekly_frequency']]\n",
    "input_data_2019_nozeros = input_data_2019[input_data_2019['run_distance_rounded'] > 0]"
   ]
  },
  {
   "cell_type": "code",
   "execution_count": 61,
   "metadata": {
    "tags": []
   },
   "outputs": [
    {
     "name": "stdout",
     "output_type": "stream",
     "text": [
      "dir already exists\n"
     ]
    }
   ],
   "source": [
    "try:\n",
    "    os.mkdir('../../raw')\n",
    "except:\n",
    "    print('dir already exists')\n",
    "input_data_2019_nozeros.to_csv('../../raw/input_runners_2019.csv', index=False)"
   ]
  },
  {
   "cell_type": "code",
   "execution_count": 66,
   "metadata": {},
   "outputs": [
    {
     "data": {
      "text/plain": [
       "<Axes: ylabel='Frequency'>"
      ]
     },
     "execution_count": 66,
     "metadata": {},
     "output_type": "execute_result"
    },
    {
     "data": {
      "image/png": "[encoded data removed]",
      "text/plain": [
       "<Figure size 640x480 with 1 Axes>"
      ]
     },
     "metadata": {},
     "output_type": "display_data"
    }
   ],
   "source": [
    "#check distrobutions\n",
    "input_data_2019_nozeros['prev_month_weekly_pace'].plot.hist(bins=20,range = (0,15))"
   ]
  },
  {
   "cell_type": "code",
   "execution_count": 67,
   "metadata": {},
   "outputs": [
    {
     "data": {
      "text/plain": [
       "<Axes: ylabel='Frequency'>"
      ]
     },
     "execution_count": 67,
     "metadata": {},
     "output_type": "execute_result"
    },
    {
     "data": {
      "image/png": "[encoded data removed]",
      "text/plain": [
       "<Figure size 640x480 with 1 Axes>"
      ]
     },
     "metadata": {},
     "output_type": "display_data"
    }
   ],
   "source": [
    "#check distrobutions\n",
    "input_data_2020_nozeros['prev_month_weekly_pace'].plot.hist(bins=20,range = (0,15))"
   ]
  }
 ],
 "metadata": {
  "kernelspec": {
   "display_name": "Python 3 (ipykernel)",
   "language": "python",
   "name": "python3"
  },
  "language_info": {
   "codemirror_mode": {
    "name": "ipython",
    "version": 3
   },
   "file_extension": ".py",
   "mimetype": "text/x-python",
   "name": "python",
   "nbconvert_exporter": "python",
   "pygments_lexer": "ipython3",
   "version": "3.10.9"
  }
 },
 "nbformat": 4,
 "nbformat_minor": 4
}
