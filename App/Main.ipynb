{
 "cells": [
  {
   "cell_type": "code",
   "execution_count": 3,
   "id": "05702c8f-8f78-492f-8d23-5aab96ad4d43",
   "metadata": {},
   "outputs": [
    {
     "name": "stdin",
     "output_type": "stream",
     "text": [
      "Are you a new user? (yes/no):  yes\n"
     ]
    },
    {
     "name": "stdout",
     "output_type": "stream",
     "text": [
      "Your user ID is 19227\n"
     ]
    },
    {
     "name": "stdin",
     "output_type": "stream",
     "text": [
      "How many days did you run in the last 7 days?:  1\n",
      "What is your gender? (M/F/Other)  M\n",
      "What is your age?  35\n",
      "Enter a date you ran in MM/DD/YYYY format:  07/07/2023\n",
      "How many kilometers did you run?:  10\n",
      "What was the total run time in HH:MM:SS format?:  00:10:00\n",
      "How many km do you plan to run this week?  40\n",
      "How many days do you plan to run?  5\n",
      "How many medium intensity runs would you like?  1\n",
      "How many high intensity runs would you like?  1\n",
      "Would you like a Sunday long run? (yes/no)  yes\n"
     ]
    },
    {
     "name": "stdout",
     "output_type": "stream",
     "text": [
      "finished loading\n"
     ]
    },
    {
     "data": {
      "text/html": [
       "<div>\n",
       "<style scoped>\n",
       "    .dataframe tbody tr th:only-of-type {\n",
       "        vertical-align: middle;\n",
       "    }\n",
       "\n",
       "    .dataframe tbody tr th {\n",
       "        vertical-align: top;\n",
       "    }\n",
       "\n",
       "    .dataframe thead th {\n",
       "        text-align: right;\n",
       "    }\n",
       "</style>\n",
       "<table border=\"1\" class=\"dataframe\">\n",
       "  <thead>\n",
       "    <tr style=\"text-align: right;\">\n",
       "      <th></th>\n",
       "      <th>run_distance</th>\n",
       "      <th>pace</th>\n",
       "    </tr>\n",
       "  </thead>\n",
       "  <tbody>\n",
       "    <tr>\n",
       "      <th>0</th>\n",
       "      <td>8</td>\n",
       "      <td>00:06:30</td>\n",
       "    </tr>\n",
       "    <tr>\n",
       "      <th>1</th>\n",
       "      <td>10</td>\n",
       "      <td>00:06:30</td>\n",
       "    </tr>\n",
       "    <tr>\n",
       "      <th>2</th>\n",
       "      <td>6</td>\n",
       "      <td>00:06:30</td>\n",
       "    </tr>\n",
       "    <tr>\n",
       "      <th>3</th>\n",
       "      <td>7</td>\n",
       "      <td>00:06:30</td>\n",
       "    </tr>\n",
       "    <tr>\n",
       "      <th>4</th>\n",
       "      <td>9</td>\n",
       "      <td>00:06:30</td>\n",
       "    </tr>\n",
       "    <tr>\n",
       "      <th>5</th>\n",
       "      <td>13</td>\n",
       "      <td>00:06:30</td>\n",
       "    </tr>\n",
       "    <tr>\n",
       "      <th>6</th>\n",
       "      <td>11</td>\n",
       "      <td>00:06:30</td>\n",
       "    </tr>\n",
       "  </tbody>\n",
       "</table>\n",
       "</div>"
      ],
      "text/plain": [
       "   run_distance      pace\n",
       "0             8  00:06:30\n",
       "1            10  00:06:30\n",
       "2             6  00:06:30\n",
       "3             7  00:06:30\n",
       "4             9  00:06:30\n",
       "5            13  00:06:30\n",
       "6            11  00:06:30"
      ]
     },
     "execution_count": 3,
     "metadata": {},
     "output_type": "execute_result"
    }
   ],
   "source": [
    "# -*- coding: utf-8 -*-\n",
    "\"\"\"\n",
    "Created on Mon Oct 25 20:32:30 2021\n",
    "\n",
    "@author: Matt Pitz\n",
    "\"\"\"\n",
    "\n",
    "\n",
    "import user_data as user\n",
    "import database_functions as dbf\n",
    "#import recommender as rmd\n",
    "\n",
    "def main():\n",
    "    #collect user inputs (note only works on new user for now\n",
    "    new_user, user_id, gender, age_group, month, updated_user_df = user.get_user_data()\n",
    "    \n",
    "    #collect user goals\n",
    "    weekly_target, days_to_run, medium_intensity_runs, high_intensity_runs, long_run = user.get_run_plan()\n",
    "    \n",
    "    #load db in memory (Move this to server start when website work)\n",
    "    raw_df = dbf.load_data()\n",
    "    print('finished loading')\n",
    "    \n",
    "    #pass user data to db\n",
    "    new_user_df = dbf.update_database(new_user, gender, age_group, month, weekly_target, days_to_run, user_id)\n",
    "    \n",
    "    #create dataset with user data for model\n",
    "    filtered_df = dbf.database_for_recommender(raw_df, new_user_df, gender, age_group, month, days_to_run, weekly_target)\n",
    "    \n",
    "    #return recommendations\n",
    "    recommendations_df = rec.generate_run_ratings(filtered_df,user_id, weekly_target, days_to_run)\n",
    "    \n",
    "    #return training plan\n",
    "    run_schedule = rec.return_run_schedule(recommendations_df, days_to_run, weekly_target, medium_intensity_runs, high_intensity_runs, long_run)\n",
    "    \n",
    "    return run_schedule\n",
    "\n",
    "schedule = main()\n",
    "schedule\n",
    "#eof"
   ]
  }
 ],
 "metadata": {
  "kernelspec": {
   "display_name": "Python 3 (ipykernel)",
   "language": "python",
   "name": "python3"
  },
  "language_info": {
   "codemirror_mode": {
    "name": "ipython",
    "version": 3
   },
   "file_extension": ".py",
   "mimetype": "text/x-python",
   "name": "python",
   "nbconvert_exporter": "python",
   "pygments_lexer": "ipython3",
   "version": "3.10.9"
  }
 },
 "nbformat": 4,
 "nbformat_minor": 5
}
